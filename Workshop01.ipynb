{
 "cells": [
  {
   "cell_type": "markdown",
   "id": "04955504",
   "metadata": {},
   "source": [
    "## Exercise 01"
   ]
  },
  {
   "cell_type": "markdown",
   "id": "0ad675c5",
   "metadata": {},
   "source": [
    "Fetch the data from:\n",
    "https://makeup-api.herokuapp.com/api/v1/products.json?brand=maybelline\n",
    "\n",
    "Then:\n",
    "1. Find the name of the product of the maximum price"
   ]
  },
  {
   "cell_type": "code",
   "execution_count": 177,
   "id": "e81a2878",
   "metadata": {},
   "outputs": [
    {
     "name": "stdout",
     "output_type": "stream",
     "text": [
      "\"name\":\"Maybelline Dream Velvet Foundation\"\n"
     ]
    }
   ],
   "source": [
    "# 1. Your code here\n",
    "import requests,re\n",
    "txt = requests.get(\"https://makeup-api.herokuapp.com/api/v1/products.json?brand=maybelline\")\n",
    "strip = txt.text.split(\",\")\n",
    "maxValue = 0\n",
    "for i in strip:\n",
    "    if \"price\" in i and \"price_sign\" not in i:\n",
    "        if(float(i[i.index(\":\")+2:-1]) > maxValue):\n",
    "            maxValue = float(i[i.index(\":\")+2:-1])\n",
    "for i in range(len(strip)):\n",
    "    if str(maxValue) in strip[i]:\n",
    "        print(strip[i-1])"
   ]
  },
  {
   "cell_type": "markdown",
   "id": "46d00c25",
   "metadata": {},
   "source": [
    "2. Find the name of the product of the minimum price"
   ]
  },
  {
   "cell_type": "code",
   "execution_count": 175,
   "id": "8b9bb5c4",
   "metadata": {},
   "outputs": [
    {
     "name": "stdout",
     "output_type": "stream",
     "text": [
      "\"name\":\"Maybelline Color Show Nail Lacquer Jewels \"\n",
      "\"name\":\"Maybelline Color Show Nail Lacquer Veils \"\n",
      "\"name\":\"Maybelline Color Show Nail Lacquer \"\n"
     ]
    }
   ],
   "source": [
    "import requests,re\n",
    "txt = requests.get(\"https://makeup-api.herokuapp.com/api/v1/products.json?brand=maybelline\")\n",
    "strip = txt.text.split(\",\")\n",
    "minValue = 10000000000\n",
    "for i in strip:\n",
    "    if \"price\" in i and \"price_sign\" not in i:\n",
    "        if(float(i[i.index(\":\")+2:-1]) < minValue):\n",
    "            minValue = float(i[i.index(\":\")+2:-1])\n",
    "for i in range(len(strip)):\n",
    "    if str(minValue) in strip[i]:\n",
    "        print(strip[i-1])"
   ]
  },
  {
   "cell_type": "markdown",
   "id": "7c3a9ce4",
   "metadata": {},
   "source": [
    "3. Find the average rating of all maybelline products (exclude any product that has no rating)"
   ]
  },
  {
   "cell_type": "code",
   "execution_count": 176,
   "id": "94c3fd14",
   "metadata": {},
   "outputs": [
    {
     "name": "stdout",
     "output_type": "stream",
     "text": [
      "Average Rating: 4.082608695652174\n"
     ]
    }
   ],
   "source": [
    "import requests,re\n",
    "txt = requests.get(\"https://makeup-api.herokuapp.com/api/v1/products.json?brand=maybelline\")\n",
    "strip = txt.text.split(\",\")\n",
    "sum = 0\n",
    "amountofNumbers = 0\n",
    "for i in strip:\n",
    "    if \"rating\" in i:\n",
    "        value = i[i.index(\":\")+1:]\n",
    "        if(value != \"null\" and len(value) == 3):\n",
    "            sum += float(value)\n",
    "            amountofNumbers += 1\n",
    "print(\"Average Rating: \" + str(sum/amountofNumbers))      "
   ]
  },
  {
   "cell_type": "markdown",
   "id": "3420488a",
   "metadata": {},
   "source": [
    "## Exercise 02"
   ]
  },
  {
   "cell_type": "markdown",
   "id": "5e3da2ac",
   "metadata": {},
   "source": [
    "Visit https://www.usatoday.com/news/  then for each of the following categories that you see on the top of the homepage: (`news`, `sports`, `entertaiment`, `life`), \n",
    "\n",
    "<br/><img src=\"https://raw.githubusercontent.com/ha2285/tmp/main/1.png\" width=\"60%\" high=\"60%\"><br/>\n",
    "\n",
    "\n",
    "- Try to visit each of these links and extract some info about the articles found on the rightside of the category's main page.\n",
    "\n",
    "<br/><img src=\"https://raw.githubusercontent.com/ha2285/tmp/main/2.png\" width=\"60%\" high=\"60%\"><br/>\n",
    "\n",
    "- For each article, you need to visit the article then extract:\n",
    "`title`, `category`, `author`, `publishing date` and the `URL of this article`.\n",
    "\n",
    "<br/><img src=\"https://raw.githubusercontent.com/ha2285/tmp/main/3.png\" width=\"60%\" high=\"60%\"><br/>\n",
    "\n",
    "- Save all these data into a text file called `articles.txt`). It should contain the data of each article in one line with comma's between in between, as follows:\n",
    "\n",
    "`title`, `category`, `author`, `publishing date`, `URL`\n",
    "\n"
   ]
  },
  {
   "cell_type": "code",
   "execution_count": 178,
   "id": "45723481",
   "metadata": {},
   "outputs": [],
   "source": [
    "from bs4 import BeautifulSoup\n",
    "import requests\n",
    "\n",
    "newsArticle1 = requests.get(\"https://www.usatoday.com/story/news/nation/2022/10/13/connecticut-police-officers-fatally-shot-bristol/10484243002/\")\n",
    "soup=BeautifulSoup(newsArticle1.text, \"html.parser\")\n",
    "f = open('articles.txt', 'w')\n",
    "dateString = soup.find('div', {'class': 'gnt_ar_dt'})['aria-label']\n",
    "date = dateString[dateString.index(\"ET\")+2:dateString.index(\"Updated\")-1]\n",
    "author = soup.find('a', {'class': 'gnt_ar_by_a'}).get_text()\n",
    "f.write(soup.find('h1').get_text() + ', News,' + author + \",\" + date + ', https://www.usatoday.com/story/news/nation/2022/10/13/connecticut-police-officers-fatally-shot-bristol/10484243002/\\n\\n')\n",
    "\n",
    "newsArticle2 = requests.get(\"https://www.usatoday.com/story/news/nation/2022/10/13/landlord-human-remains-found-freezer-homicide/10477470002/\")\n",
    "soup=BeautifulSoup(newsArticle2.text, \"html.parser\")\n",
    "dateString = soup.find('div', {'class': 'gnt_ar_dt'})['aria-label']\n",
    "date = dateString[dateString.index(\"ET\")+2:]\n",
    "author = soup.find('a', {'class': 'gnt_ar_by_a'}).get_text()\n",
    "f.write(soup.find('h1').get_text() + ', News,' + author + \",\" + date + ', https://www.usatoday.com/story/news/nation/2022/10/13/landlord-human-remains-found-freezer-homicide/10477470002/\\n\\n')\n",
    "\n",
    "newsArticle3 = requests.get(\"https://www.usatoday.com/story/news/politics/2022/10/13/ketanji-brown-jackson-making-waves-supreme-court/8189798001/?gnt-cfr=1\")\n",
    "soup=BeautifulSoup(newsArticle3.text, \"html.parser\")\n",
    "dateString = soup.find('div', {'class': 'gnt_ar_dt'})['aria-label']\n",
    "date = dateString[dateString.index(\"ET\")+2:dateString.index(\"Updated\")-1]\n",
    "author = soup.find('a', {'class': 'gnt_ar_by_a'}).get_text()\n",
    "f.write(soup.find('h1').get_text() + ', News,' + author + \",\" + date + ', https://www.usatoday.com/story/news/politics/2022/10/13/ketanji-brown-jackson-making-waves-supreme-court/8189798001/?gnt-cfr=1\\n\\n')\n",
    "\n",
    "newsArticle4 = requests.get(\"https://www.usatoday.com/story/news/health/2022/10/13/cdc-teens-report-poor-mental-health-during-covid/10475159002/\")\n",
    "soup=BeautifulSoup(newsArticle4.text, \"html.parser\")\n",
    "dateString = soup.find('div', {'class': 'gnt_ar_dt'})['aria-label']\n",
    "date = dateString[dateString.index(\"ET\")+2:]\n",
    "author = soup.find('a', {'class': 'gnt_ar_by_a'}).get_text()\n",
    "f.write(soup.find('h1').get_text() + ', News,' + author + \",\" + date + ', https://www.usatoday.com/story/news/health/2022/10/13/cdc-teens-report-poor-mental-health-during-covid/10475159002/\\n\\n')\n",
    "\n",
    "sportsArticle1 = requests.get(\"https://www.usatoday.com/story/sports/ncaaf/2022/10/13/alabama-tennessee-college-football-week-7-expert-picks-split/10466536002/\")\n",
    "soup=BeautifulSoup(sportsArticle1.text, \"html.parser\")\n",
    "dateString = soup.find('div', {'class': 'gnt_ar_dt'})['aria-label']\n",
    "date = dateString[dateString.index(\"ET\")+2:]\n",
    "f.write(soup.find('h1').get_text() + ', Sports, No Author,' + date + ', https://www.usatoday.com/story/sports/ncaaf/2022/10/13/alabama-tennessee-college-football-week-7-expert-picks-split/10466536002/\\n\\n')\n",
    "\n",
    "sportsArticle2 = requests.get(\"https://www.usatoday.com/story/sports/wnba/2022/10/13/brittney-griner-feels-isolated-anxious-talks-continue-lawyer/10485233002/\")\n",
    "soup=BeautifulSoup(sportsArticle2.text, \"html.parser\")\n",
    "dateString = soup.find('div', {'class': 'gnt_ar_dt'})['aria-label']\n",
    "date = dateString[dateString.index(\"ET\")+2:]\n",
    "author = soup.find('a', {'class': 'gnt_ar_by_a'}).get_text()\n",
    "f.write(soup.find('h1').get_text() + ', Sports,' + author + ',' + date + ', https://www.usatoday.com/story/sports/wnba/2022/10/13/brittney-griner-feels-isolated-anxious-talks-continue-lawyer/10485233002/\\n\\n')\n",
    "\n",
    "sportsArticle3 = requests.get(\"https://www.usatoday.com/story/sports/ftw/2022/10/13/massive-grouper-catch-stuns-crowd-florida/50831447/\")\n",
    "soup=BeautifulSoup(sportsArticle3.text, \"html.parser\")\n",
    "dateString = soup.find('div', {'class': 'gnt_ar_dt'})['aria-label']\n",
    "date = dateString[dateString.index(\"ET\")+2:]\n",
    "author = soup.find('div', {'class': 'gnt_ar_by'}).get_text()\n",
    "f.write(soup.find('h1').get_text() + ', Sports, ' + author + ',' + date + ', https://www.usatoday.com/story/sports/ftw/2022/10/13/massive-grouper-catch-stuns-crowd-florida/50831447/\\n\\n')\n",
    "\n",
    "sportsArticle4 = requests.get(\"https://www.usatoday.com/story/sports/mlb/astros/2022/10/13/astros-framber-valdez-luis-garcia-show-off-playoff-hair-extensions/10486454002/\")\n",
    "soup=BeautifulSoup(sportsArticle4.text, \"html.parser\")\n",
    "dateString = soup.find('div', {'class': 'gnt_ar_dt'})['aria-label']\n",
    "date = dateString[dateString.index(\"ET\")+2:]\n",
    "author = soup.find('a', {'class': 'gnt_ar_by_a'}).get_text()\n",
    "f.write(soup.find('h1').get_text() + ', Sports,' + author + ',' + date + ', https://www.usatoday.com/story/sports/mlb/astros/2022/10/13/astros-framber-valdez-luis-garcia-show-off-playoff-hair-extensions/10486454002/\\n\\n')\n",
    "\n",
    "entertainmentArticle1 = requests.get(\"https://www.usatoday.com/story/entertainment/celebrities/2022/10/13/cuba-gooding-jr-sentence-no-jail-time-harassment-case/10486959002/\")\n",
    "soup=BeautifulSoup(entertainmentArticle1.text, \"html.parser\")\n",
    "dateString = soup.find('div', {'class': 'gnt_ar_dt'})['aria-label']\n",
    "date = dateString[dateString.index(\"ET\")+2:]\n",
    "author = soup.find('div', {'class': 'gnt_ar_by'}).get_text()\n",
    "f.write(soup.find('h1').get_text() + ', Entertainment, ' + author + ',' + date + ', https://www.usatoday.com/story/entertainment/celebrities/2022/10/13/cuba-gooding-jr-sentence-no-jail-time-harassment-case/10486959002/\\n\\n')\n",
    "\n",
    "entertainmentArticle2 = requests.get(\"https://www.usatoday.com/story/entertainment/movies/2022/10/13/danielle-deadwyler-till-oscar-black-trauma/8229544001/\")\n",
    "soup=BeautifulSoup(entertainmentArticle2.text, \"html.parser\")\n",
    "dateString = soup.find('div', {'class': 'gnt_ar_dt'})['aria-label']\n",
    "date = dateString[dateString.index(\"ET\")+2:dateString.index(\"Updated\")-1]\n",
    "author = soup.find('div', {'class': 'gnt_ar_by'}).get_text()[:11]\n",
    "f.write(soup.find('h1').get_text() + ', Entertainment, ' + author + ',' + date + ', https://www.usatoday.com/story/entertainment/movies/2022/10/13/danielle-deadwyler-till-oscar-black-trauma/8229544001/\\n\\n')\n",
    "\n",
    "entertainmentArticle3 = requests.get(\"https://www.usatoday.com/story/entertainment/celebrities/2022/10/12/brandy-health-scare-dehydration-low-nutrition/10479892002/\")\n",
    "soup=BeautifulSoup(entertainmentArticle3.text, \"html.parser\")\n",
    "dateString = soup.find('div', {'class': 'gnt_ar_dt'})['aria-label']\n",
    "date = dateString[dateString.index(\"ET\")+2:dateString.index(\"Updated\")-1]\n",
    "author = soup.find('a', {'class': 'gnt_ar_by_a'}).get_text()\n",
    "f.write(soup.find('h1').get_text() + ', Entertainment,' + author + ',' + date + ', https://www.usatoday.com/story/entertainment/celebrities/2022/10/12/brandy-health-scare-dehydration-low-nutrition/10479892002/\\n\\n')\n",
    "\n",
    "entertainmentArticle4 = requests.get(\"https://www.usatoday.com/story/entertainment/music/2022/10/13/country-thunder-arizona-2023-lineup-headliners-luke-bryan-dierks-bentley/10486244002/\")\n",
    "soup=BeautifulSoup(entertainmentArticle4.text, \"html.parser\")\n",
    "dateString = soup.find('div', {'class': 'gnt_ar_dt'})['aria-label']\n",
    "date = dateString[dateString.index(\"ET\")+2:]\n",
    "author = soup.find('a', {'class': 'gnt_ar_by_a'}).get_text()\n",
    "f.write(soup.find('h1').get_text() + ', Entertainment,' + author + ',' + date + ', https://www.usatoday.com/story/entertainment/music/2022/10/13/country-thunder-arizona-2023-lineup-headliners-luke-bryan-dierks-bentley/10486244002/\\n\\n')\n",
    "\n",
    "lifeArticle1 = requests.get(\"https://www.usatoday.com/videos/entertainment/entertainthis/2022/10/12/jamie-lee-curtis-halloween-ends-interview/10476073002/\")\n",
    "soup=BeautifulSoup(lifeArticle1.text, \"html.parser\")\n",
    "dateString = soup.find('div', {'class': 'gnt_sv_dt'})['aria-label']\n",
    "date = dateString[dateString.index(\"ET\")+2:]\n",
    "f.write(soup.find('h1').get_text() + ', Life, No Author,' + date + ', https://www.usatoday.com/videos/entertainment/entertainthis/2022/10/12/jamie-lee-curtis-halloween-ends-interview/10476073002/\\n\\n')\n",
    "\n",
    "##I couldn't parse out the date from the story-timestamp tag within the article as BeautifulSoup's get_text method didn't pick it up for some reason, so I used an attribute of the story-timestamp tag that got a hyphenated form of the date\n",
    "lifeArticle2 = requests.get(\"https://www.usatoday.com/picture-gallery/life/2018/09/25/new-halloween-movie-jamie-lee-curtis-battles-michael-myers-again/1416472002/\")\n",
    "soup=BeautifulSoup(lifeArticle2.text, \"html.parser\")\n",
    "date = soup.find('story-timestamp')['publish-date'][0:10]\n",
    "f.write(soup.find('h1').get_text() + ', Life, No Author, ' + date + ', https://www.usatoday.com/picture-gallery/life/2018/09/25/new-halloween-movie-jamie-lee-curtis-battles-michael-myers-again/1416472002/\\n\\n')\n",
    "\n",
    "lifeArticle3 = requests.get(\"https://www.usatoday.com/story/life/health-wellness/2022/10/12/quiet-quitting-relationships-really-possible/10464624002/\")\n",
    "soup=BeautifulSoup(lifeArticle3.text, \"html.parser\")\n",
    "dateString = soup.find('div', {'class': 'gnt_ar_dt'})['aria-label']\n",
    "date = dateString[dateString.index(\"ET\")+2:dateString.index(\"Updated\")-1]\n",
    "author = soup.find('a', {'class': 'gnt_ar_by_a'}).get_text()\n",
    "f.write(soup.find('h1').get_text() + ', Life,' + author + ',' + date + ', https://www.usatoday.com/story/life/health-wellness/2022/10/12/quiet-quitting-relationships-really-possible/10464624002/\\n\\n')\n",
    "\n",
    "lifeArticle4 = requests.get(\"https://www.usatoday.com/story/life/health-wellness/2021/06/08/jesse-tyler-ferguson-had-skin-cancer-removed-shares-spf-reminder/7599305002/\")\n",
    "soup=BeautifulSoup(lifeArticle4.text, \"html.parser\")\n",
    "dateString = soup.find('div', {'class': 'gnt_ar_dt'})['aria-label']\n",
    "date = dateString[dateString.index(\"ET\")+2:dateString.index(\"Updated\")-1]\n",
    "author = soup.find('a', {'class': 'gnt_ar_by_a'}).get_text()\n",
    "f.write(soup.find('h1').get_text() + ', Life,' + author + ',' + date + ', https://www.usatoday.com/story/life/health-wellness/2021/06/08/jesse-tyler-ferguson-had-skin-cancer-removed-shares-spf-reminder/7599305002/')\n",
    "\n",
    "f.close()"
   ]
  }
 ],
 "metadata": {
  "kernelspec": {
   "display_name": "Python [conda env:root] *",
   "language": "python",
   "name": "conda-root-py"
  },
  "language_info": {
   "codemirror_mode": {
    "name": "ipython",
    "version": 3
   },
   "file_extension": ".py",
   "mimetype": "text/x-python",
   "name": "python",
   "nbconvert_exporter": "python",
   "pygments_lexer": "ipython3",
   "version": "3.10.5"
  }
 },
 "nbformat": 4,
 "nbformat_minor": 5
}
